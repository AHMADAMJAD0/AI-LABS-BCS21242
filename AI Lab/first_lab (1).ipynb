{
 "cells": [
  {
   "cell_type": "code",
   "execution_count": 2,
   "id": "74d38665-6b7b-452d-b666-68e361a15e9b",
   "metadata": {},
   "outputs": [
    {
     "name": "stdout",
     "output_type": "stream",
     "text": [
      " i love my parents\n"
     ]
    }
   ],
   "source": [
    "# programming syntex \n",
    "print(\" i love my parents\")"
   ]
  },
  {
   "cell_type": "code",
   "execution_count": 4,
   "id": "53314ec1-1256-450d-a7f5-5d3879e80a5b",
   "metadata": {},
   "outputs": [
    {
     "name": "stdout",
     "output_type": "stream",
     "text": [
      " cpmments steatment can not run \n"
     ]
    }
   ],
   "source": [
    "# 1 Comments \n",
    "# print(\" comments\")\n",
    "print(\" cpmments steatment can not run \")"
   ]
  },
  {
   "cell_type": "code",
   "execution_count": 8,
   "id": "9ad26797-7252-4e77-a8f2-35ad75ef4b05",
   "metadata": {},
   "outputs": [
    {
     "name": "stdin",
     "output_type": "stream",
     "text": [
      "Enter university name  pugc\n"
     ]
    },
    {
     "name": "stdout",
     "output_type": "stream",
     "text": [
      "pugc\n"
     ]
    },
    {
     "name": "stdin",
     "output_type": "stream",
     "text": [
      "enter num 1 :  12\n",
      "enter num 2 :  12\n"
     ]
    },
    {
     "name": "stdout",
     "output_type": "stream",
     "text": [
      " total is =  24\n"
     ]
    }
   ],
   "source": [
    "# 2 Input \n",
    "\n",
    "# type string\n",
    "\n",
    "university_name = input(\"Enter university name \")\n",
    "print( university_name )\n",
    "\n",
    "# type float , int , etc\n",
    "\n",
    "num1 = int(input(\"enter num 1 : \"))\n",
    "num2 = int(input(\"enter num 2 : \"))\n",
    "print (\" total is = \",num1 + num2)"
   ]
  },
  {
   "cell_type": "code",
   "execution_count": 10,
   "id": "71f13645-d460-472b-a6b2-a72517e9cd64",
   "metadata": {},
   "outputs": [
    {
     "name": "stdout",
     "output_type": "stream",
     "text": [
      "Ahmad\n",
      "Imam\n",
      "Amjad\n"
     ]
    }
   ],
   "source": [
    "# 3 Multiple line in single line \n",
    "print(\"Ahmad\");print(\"Imam\");print(\"Amjad\")"
   ]
  },
  {
   "cell_type": "code",
   "execution_count": 16,
   "id": "d9e97dd6-2c59-4f33-ba90-8c83ae178dd3",
   "metadata": {},
   "outputs": [
    {
     "name": "stdin",
     "output_type": "stream",
     "text": [
      "enter name  ali\n"
     ]
    },
    {
     "name": "stdout",
     "output_type": "stream",
     "text": [
      " wrong name enter \n"
     ]
    }
   ],
   "source": [
    "# 4 Indentation\n",
    "\n",
    "'''\n",
    "name = input(\"enter name \" )\n",
    "if name == \"ahmad\":\n",
    "print(\"my name is ahmad \")\n",
    "else:\n",
    "print(\" wrong name enter \")\n",
    "'''\n",
    "name = input(\"enter name \" )\n",
    "if name == \"ahmad\":\n",
    "    print(\"my name is ahmad \")\n",
    "else:\n",
    "    print(\" wrong name enter \")"
   ]
  },
  {
   "cell_type": "code",
   "execution_count": null,
   "id": "efc60d37-0e2a-4828-828d-809f99b36340",
   "metadata": {},
   "outputs": [],
   "source": [
    "# use of single and tab indentation \n",
    "x=1\n",
    "if x>0:\n",
    "    print(\"we use FOUR SPACES for indentation\")\n",
    "if x<0:\n",
    "  print(\"we use a TAB for our indentation\")"
   ]
  },
  {
   "cell_type": "code",
   "execution_count": 2,
   "id": "4762f973-7637-4ac6-8647-93fbc5963048",
   "metadata": {},
   "outputs": [
    {
     "name": "stdout",
     "output_type": "stream",
     "text": [
      "<class 'int'>\n",
      "<class 'float'>\n",
      "<class 'str'>\n",
      "<class 'bool'>\n"
     ]
    }
   ],
   "source": [
    "# 5 deta Type casting \n",
    "a = 10\n",
    "print(type(a))\n",
    "\n",
    "b = 10.0\n",
    "print(type(b))\n",
    "\n",
    "c= \"ahmad\"\n",
    "print(type(c))\n",
    "\n",
    "d = True\n",
    "print(type(d))\n",
    "\n"
   ]
  },
  {
   "cell_type": "code",
   "execution_count": 40,
   "id": "4114f20c-1481-4510-a96f-29368b6c2363",
   "metadata": {},
   "outputs": [
    {
     "name": "stdout",
     "output_type": "stream",
     "text": [
      "['Hassan', 'Hamza', 'Hashim', 'Ahsan']\n",
      "Maaz\n",
      "['Hamza', 'Hashim', 'Ahsan', 'Huzaifa', 'Haroon', 'Maaz']\n",
      "['Ahmad', 'Hassan', 'Hamza', 'Hashim', 'Ahsan']\n",
      "['Hassan', 'Hashim']\n",
      "['Ahmad', 'Hamza', 'Ahsan', 'Haroon']\n",
      "['Maaz', 'Haroon', 'Huzaifa', 'Ahsan', 'Hashim', 'Hamza', 'Hassan', 'Ahmad']\n",
      "['Maaz', 'Haroon', 'Huzaifa', 'Ahsan', 'Hashim', 'Hamza', 'Hassan', 'Ahmad']\n",
      "['Maaz', 'Haroon', 'Huzaifa', 'Ahsan', 'Hashim']\n",
      "['Hamza', 'Hashim', 'Ahsan', 'Huzaifa', 'Haroon']\n",
      "['Hamza', 'Hashim', 'Ahsan']\n"
     ]
    }
   ],
   "source": [
    "# list clicing & indices\n",
    "list = [\"Ahmad\",\"Hassan\",\"Hamza\",\"Hashim\",\"Ahsan\",\"Huzaifa\",\"Haroon\",\"Maaz\"]\n",
    "print(list[1:5])\n",
    "print(list[-1])\n",
    "print(list[2:])\n",
    "print(list[:5])\n",
    "print(list[1:4:2])\n",
    "print(list[::2])\n",
    "print(list[::-1])\n",
    "print(list[-1::-1])\n",
    "print(list[-1:-6:-1])\n",
    "print(list[-6:-1])\n",
    "print(list[2:5])"
   ]
  },
  {
   "cell_type": "code",
   "execution_count": null,
   "id": "3bfae267-d843-4540-b12e-c195550198f5",
   "metadata": {},
   "outputs": [],
   "source": []
  }
 ],
 "metadata": {
  "kernelspec": {
   "display_name": "Python 3 (ipykernel)",
   "language": "python",
   "name": "python3"
  },
  "language_info": {
   "codemirror_mode": {
    "name": "ipython",
    "version": 3
   },
   "file_extension": ".py",
   "mimetype": "text/x-python",
   "name": "python",
   "nbconvert_exporter": "python",
   "pygments_lexer": "ipython3",
   "version": "3.11.7"
  }
 },
 "nbformat": 4,
 "nbformat_minor": 5
}
