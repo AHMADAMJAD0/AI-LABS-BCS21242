{
 "cells": [
  {
   "cell_type": "code",
   "execution_count": null,
   "id": "aa70cd5c-8d15-4cd4-b9c3-0c0404e5f4c0",
   "metadata": {},
   "outputs": [],
   "source": [
    "# use while loop \n",
    "count = 1\n",
    "while(count <= 10):\n",
    "    print(\"2  *  \",count ,\" = \" , 2 * count)\n",
    "    count = count + 1"
   ]
  },
  {
   "cell_type": "code",
   "execution_count": null,
   "id": "4033919e-be7f-4721-9947-f894ba67082e",
   "metadata": {},
   "outputs": [],
   "source": []
  },
  {
   "cell_type": "code",
   "execution_count": null,
   "id": "96a94fd8-86f2-4cb4-b52b-ceb10a240daa",
   "metadata": {},
   "outputs": [],
   "source": []
  }
 ],
 "metadata": {
  "kernelspec": {
   "display_name": "Python 3 (ipykernel)",
   "language": "python",
   "name": "python3"
  },
  "language_info": {
   "codemirror_mode": {
    "name": "ipython",
    "version": 3
   },
   "file_extension": ".py",
   "mimetype": "text/x-python",
   "name": "python",
   "nbconvert_exporter": "python",
   "pygments_lexer": "ipython3",
   "version": "3.11.7"
  }
 },
 "nbformat": 4,
 "nbformat_minor": 5
}
