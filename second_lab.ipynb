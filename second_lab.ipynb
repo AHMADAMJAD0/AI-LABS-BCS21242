{
 "cells": [
  {
   "cell_type": "code",
   "execution_count": 28,
   "id": "aa70cd5c-8d15-4cd4-b9c3-0c0404e5f4c0",
   "metadata": {},
   "outputs": [
    {
     "name": "stdout",
     "output_type": "stream",
     "text": [
      "2  *   1  =  2\n",
      "2  *   2  =  4\n",
      "2  *   3  =  6\n",
      "2  *   4  =  8\n",
      "2  *   5  =  10\n",
      "2  *   6  =  12\n",
      "2  *   7  =  14\n",
      "2  *   8  =  16\n",
      "2  *   9  =  18\n",
      "2  *   10  =  20\n"
     ]
    }
   ],
   "source": [
    "# use while loop \n",
    "count = 1\n",
    "while(count <= 10):\n",
    "    print(\"2  *  \",count ,\" = \" , 2 * count)\n",
    "    count = count + 1"
   ]
  },
  {
   "cell_type": "code",
   "execution_count": null,
   "id": "4033919e-be7f-4721-9947-f894ba67082e",
   "metadata": {},
   "outputs": [],
   "source": [
    "#  Single statement while block:\n",
    "\n",
    "\n",
    "count = 1\n",
    "while( count == 1):print(\" pakistan \")\n",
    "                         "
   ]
  },
  {
   "cell_type": "code",
   "execution_count": 9,
   "id": "96a94fd8-86f2-4cb4-b52b-ceb10a240daa",
   "metadata": {},
   "outputs": [
    {
     "name": "stdout",
     "output_type": "stream",
     "text": [
      " for loop \n",
      "---------------------\n",
      " honda \n",
      "[' honda ', ' civik ', ' bentaly ', ' corola ']\n",
      " civik \n",
      "[' honda ', ' civik ', ' bentaly ', ' corola ']\n",
      " bentaly \n",
      "[' honda ', ' civik ', ' bentaly ', ' corola ']\n",
      " corola \n",
      "[' honda ', ' civik ', ' bentaly ', ' corola ']\n"
     ]
    }
   ],
   "source": [
    "# for in loop \n",
    "print(\" for loop \")\n",
    "print(\"---------------------\")\n",
    "cars = [ \" honda \",\" civik \",\" bentaly \",\" corola \"]\n",
    "for n in cars:\n",
    "    print(n)\n",
    "    print(\"---------------------\")\n",
    "    print(cars)"
   ]
  },
  {
   "cell_type": "code",
   "execution_count": 13,
   "id": "39ea99f1-4835-4bdc-b078-0131c0e520a7",
   "metadata": {},
   "outputs": [
    {
     "name": "stdout",
     "output_type": "stream",
     "text": [
      "<class 'list'>\n",
      " corola \n"
     ]
    }
   ],
   "source": [
    "# Iterating by index of sequences:\n",
    "\n",
    "cars = [ \" honda \",\" civik \",\" bentaly \",\" corola \"]\n",
    "print(type(cars))\n",
    "\n",
    "print(cars[3])"
   ]
  },
  {
   "cell_type": "code",
   "execution_count": 1,
   "id": "d72034a1-4153-4a88-9d60-2d0e10158208",
   "metadata": {},
   "outputs": [
    {
     "name": "stdout",
     "output_type": "stream",
     "text": [
      " enter age :  3\n"
     ]
    },
    {
     "name": "stdout",
     "output_type": "stream",
     "text": [
      " you can not vote at the movement \n"
     ]
    }
   ],
   "source": [
    "\n",
    "# Loop Control Statements:\n",
    "\n",
    "age = int(input(\" enter age : \"))\n",
    "if age >= 18 and age <= 70:\n",
    "    print( \" you can vote \")\n",
    "\n",
    "else: \n",
    "    print(\" you can not vote at the movement \")"
   ]
  },
  {
   "cell_type": "code",
   "execution_count": 8,
   "id": "d3f6e983-8564-417e-a507-6f945d157a28",
   "metadata": {},
   "outputs": [
    {
     "name": "stdout",
     "output_type": "stream",
     "text": [
      " enter name :  ahmad\n"
     ]
    },
    {
     "name": "stdout",
     "output_type": "stream",
     "text": [
      " name is =  ahmad\n",
      "5\n"
     ]
    }
   ],
   "source": [
    "# lenth of string \n",
    "\n",
    "name = input(\" enter name : \")\n",
    "print(\" name is = \",name )\n",
    "print(len(name))\n",
    "\n"
   ]
  },
  {
   "cell_type": "code",
   "execution_count": 23,
   "id": "c0f360d7-38e8-4f5e-92fb-295d7deea2af",
   "metadata": {},
   "outputs": [
    {
     "name": "stdout",
     "output_type": "stream",
     "text": [
      " enter age :  3\n"
     ]
    },
    {
     "name": "stdout",
     "output_type": "stream",
     "text": [
      "weekend\n"
     ]
    }
   ],
   "source": [
    "# Break Statement:\n",
    "num = int(input(\" enter age : \"))\n",
    "if num == 1:\n",
    "    print(\"monday \")\n",
    "\n",
    "elif num == 2:\n",
    "    \n",
    "    print(\" tuesday\")\n",
    "   \n",
    "\n",
    "else:\n",
    "    print(\"weekend\")\n",
    "    break:\n",
    "    \n",
    " \n",
    "    "
   ]
  },
  {
   "cell_type": "code",
   "execution_count": null,
   "id": "e3a340eb-4d76-4882-b116-3692a5d71933",
   "metadata": {},
   "outputs": [],
   "source": [
    "# python function \n",
    "# creat a function \n"
   ]
  }
 ],
 "metadata": {
  "kernelspec": {
   "display_name": "Python 3 (ipykernel)",
   "language": "python",
   "name": "python3"
  },
  "language_info": {
   "codemirror_mode": {
    "name": "ipython",
    "version": 3
   },
   "file_extension": ".py",
   "mimetype": "text/x-python",
   "name": "python",
   "nbconvert_exporter": "python",
   "pygments_lexer": "ipython3",
   "version": "3.11.7"
  }
 },
 "nbformat": 4,
 "nbformat_minor": 5
}
