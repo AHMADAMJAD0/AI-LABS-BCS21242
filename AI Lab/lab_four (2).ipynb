{
 "cells": [
  {
   "cell_type": "code",
   "execution_count": 3,
   "id": "84770799-0870-4b0b-a614-3c35ed597351",
   "metadata": {},
   "outputs": [
    {
     "name": "stdout",
     "output_type": "stream",
     "text": [
      "ahmad \n"
     ]
    }
   ],
   "source": [
    "print(\"ahmad \")"
   ]
  },
  {
   "cell_type": "code",
   "execution_count": 3,
   "id": "c9a84e62-7e46-4193-a464-d44acf0243cf",
   "metadata": {},
   "outputs": [
    {
     "name": "stdout",
     "output_type": "stream",
     "text": [
      "[5, 9, 13]\n",
      "13\n",
      "[5, 9]\n",
      "9\n",
      "False\n"
     ]
    }
   ],
   "source": [
    "\n",
    "# implement stack using pythone\n",
    "\n",
    "class Stack:\n",
    "    def __init__(self):\n",
    "        self.stack = []\n",
    "\n",
    "    def push(self, item):\n",
    "        self.stack.append(item)\n",
    "\n",
    "    def pop(self):\n",
    "        if not self.is_empty():\n",
    "            return self.stack.pop()\n",
    "        else:\n",
    "            raise IndexError(\"Stack is empty\")\n",
    "\n",
    "    def peek(self):\n",
    "        if not self.is_empty():\n",
    "            return self.stack[-1]\n",
    "        else:\n",
    "            raise IndexError(\"Stack is empty\")\n",
    "\n",
    "    def is_empty(self):\n",
    "        return len(self.stack) == 0\n",
    "\n",
    "    def __len__(self):\n",
    "        return len(self.stack)\n",
    "\n",
    "    def __str__(self):\n",
    "        return str(self.stack)\n",
    "\n",
    "stack = Stack()\n",
    "stack.push(5)\n",
    "stack.push(9)\n",
    "stack.push(13)\n",
    "print(stack)  # Output: [1, 2, 3]\n",
    "print(stack.pop())  # Output: 3\n",
    "print(stack)  # Output: [1, 2]\n",
    "print(stack.peek())  # Output: 2\n",
    "print(stack.is_empty())  # Output: False"
   ]
  },
  {
   "cell_type": "code",
   "execution_count": 1,
   "id": "b047f101-be4e-4993-b26c-3e082bf332c1",
   "metadata": {},
   "outputs": [
    {
     "name": "stdout",
     "output_type": "stream",
     "text": [
      "[23, 45, 36]\n",
      "23\n",
      "[45, 36]\n",
      "45\n",
      "False\n"
     ]
    }
   ],
   "source": [
    "\n",
    "# implement queue using pythone\n",
    "\n",
    "class Queue:\n",
    "    def __init__(self):\n",
    "        self.queue = []\n",
    "\n",
    "    def enqueue(self, item):\n",
    "        self.queue.append(item)\n",
    "\n",
    "    def dequeue(self):\n",
    "        if not self.is_empty():\n",
    "            return self.queue.pop(0)\n",
    "        else:\n",
    "            raise IndexError(\"Queue is empty\")\n",
    "\n",
    "    def peek(self):\n",
    "        if not self.is_empty():\n",
    "            return self.queue[0]\n",
    "        else:\n",
    "            raise IndexError(\"Queue is empty\")\n",
    "\n",
    "    def is_empty(self):\n",
    "        return len(self.queue) == 0\n",
    "\n",
    "    def __len__(self):\n",
    "        return len(self.queue)\n",
    "\n",
    "    def __str__(self):\n",
    "        return str(self.queue)\n",
    "\n",
    "queue = Queue()\n",
    "queue.enqueue(23)\n",
    "queue.enqueue(45)\n",
    "queue.enqueue(36)\n",
    "print(queue)  # Output: [1, 2, 3]\n",
    "print(queue.dequeue())  # Output: 1\n",
    "print(queue)  # Output: [2, 3]\n",
    "print(queue.peek())  # Output: 2\n",
    "print(queue.is_empty())  # Output: False"
   ]
  },
  {
   "cell_type": "code",
   "execution_count": 5,
   "id": "7d068d60-8715-4672-8508-82ab61617bc2",
   "metadata": {},
   "outputs": [
    {
     "name": "stdout",
     "output_type": "stream",
     "text": [
      "-1\n"
     ]
    }
   ],
   "source": [
    "\n",
    "'''in computer science, a binary search or half-interval search algorithm finds the position of\n",
    "a target value within a sorted array. .............\n",
    "'''\n",
    "\n",
    "def binary_search(arr, target):\n",
    "    left = 0\n",
    "    right = len(arr) - 1\n",
    "\n",
    "    while left <= right:\n",
    "        mid = (left + right) // 2\n",
    "\n",
    "        if arr[mid] == target:\n",
    "            return mid\n",
    "        elif arr[mid] < target:\n",
    "            left = mid + 1\n",
    "        else:\n",
    "            right = mid - 1\n",
    "\n",
    "    return -1  # Target not found\n",
    "\n",
    "sorted_array = [19, 32, 53, 74, 95, 116, 137]\n",
    "target = 7\n",
    "index = binary_search(sorted_array, target)\n",
    "print(index)  "
   ]
  },
  {
   "cell_type": "code",
   "execution_count": null,
   "id": "53796351-935c-4b0c-98b5-ce084ed43675",
   "metadata": {},
   "outputs": [],
   "source": []
  }
 ],
 "metadata": {
  "kernelspec": {
   "display_name": "Python 3 (ipykernel)",
   "language": "python",
   "name": "python3"
  },
  "language_info": {
   "codemirror_mode": {
    "name": "ipython",
    "version": 3
   },
   "file_extension": ".py",
   "mimetype": "text/x-python",
   "name": "python",
   "nbconvert_exporter": "python",
   "pygments_lexer": "ipython3",
   "version": "3.11.7"
  }
 },
 "nbformat": 4,
 "nbformat_minor": 5
}
