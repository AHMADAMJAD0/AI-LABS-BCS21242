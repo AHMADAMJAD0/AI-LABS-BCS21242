{
 "cells": [
  {
   "cell_type": "code",
   "execution_count": 28,
   "id": "aa70cd5c-8d15-4cd4-b9c3-0c0404e5f4c0",
   "metadata": {},
   "outputs": [
    {
     "name": "stdout",
     "output_type": "stream",
     "text": [
      "2  *   1  =  2\n",
      "2  *   2  =  4\n",
      "2  *   3  =  6\n",
      "2  *   4  =  8\n",
      "2  *   5  =  10\n",
      "2  *   6  =  12\n",
      "2  *   7  =  14\n",
      "2  *   8  =  16\n",
      "2  *   9  =  18\n",
      "2  *   10  =  20\n"
     ]
    }
   ],
   "source": [
    "# use while loop \n",
    "count = 1\n",
    "while(count <= 10):\n",
    "    print(\"2  *  \",count ,\" = \" , 2 * count)\n",
    "    count = count + 1"
   ]
  },
  {
   "cell_type": "code",
   "execution_count": null,
   "id": "4033919e-be7f-4721-9947-f894ba67082e",
   "metadata": {},
   "outputs": [],
   "source": [
    "#  Single statement while block:\n",
    "\n",
    "\n",
    "count = 1\n",
    "while( count == 1):print(\" pakistan \")\n",
    "                         "
   ]
  },
  {
   "cell_type": "code",
   "execution_count": 9,
   "id": "96a94fd8-86f2-4cb4-b52b-ceb10a240daa",
   "metadata": {},
   "outputs": [
    {
     "name": "stdout",
     "output_type": "stream",
     "text": [
      " for loop \n",
      "---------------------\n",
      " honda \n",
      "[' honda ', ' civik ', ' bentaly ', ' corola ']\n",
      " civik \n",
      "[' honda ', ' civik ', ' bentaly ', ' corola ']\n",
      " bentaly \n",
      "[' honda ', ' civik ', ' bentaly ', ' corola ']\n",
      " corola \n",
      "[' honda ', ' civik ', ' bentaly ', ' corola ']\n"
     ]
    }
   ],
   "source": [
    "# for in loop \n",
    "print(\" for loop \")\n",
    "print(\"---------------------\")\n",
    "cars = [ \" honda \",\" civik \",\" bentaly \",\" corola \"]\n",
    "for n in cars:\n",
    "    print(n)\n",
    "    print(\"---------------------\")\n",
    "    print(cars)"
   ]
  },
  {
   "cell_type": "code",
   "execution_count": 13,
   "id": "39ea99f1-4835-4bdc-b078-0131c0e520a7",
   "metadata": {},
   "outputs": [
    {
     "name": "stdout",
     "output_type": "stream",
     "text": [
      "<class 'list'>\n",
      " corola \n"
     ]
    }
   ],
   "source": [
    "# Iterating by index of sequences:\n",
    "\n",
    "cars = [ \" honda \",\" civik \",\" bentaly \",\" corola \"]\n",
    "print(type(cars))\n",
    "\n",
    "print(cars[3])"
   ]
  },
  {
   "cell_type": "code",
   "execution_count": 1,
   "id": "d72034a1-4153-4a88-9d60-2d0e10158208",
   "metadata": {},
   "outputs": [
    {
     "name": "stdout",
     "output_type": "stream",
     "text": [
      " enter age :  3\n"
     ]
    },
    {
     "name": "stdout",
     "output_type": "stream",
     "text": [
      " you can not vote at the movement \n"
     ]
    }
   ],
   "source": [
    "\n",
    "# Loop Control Statements:\n",
    "\n",
    "age = int(input(\" enter age : \"))\n",
    "if age >= 18 and age <= 70:\n",
    "    print( \" you can vote \")\n",
    "\n",
    "else: \n",
    "    print(\" you can not vote at the movement \")"
   ]
  },
  {
   "cell_type": "code",
   "execution_count": 8,
   "id": "d3f6e983-8564-417e-a507-6f945d157a28",
   "metadata": {},
   "outputs": [
    {
     "name": "stdout",
     "output_type": "stream",
     "text": [
      " enter name :  ahmad\n"
     ]
    },
    {
     "name": "stdout",
     "output_type": "stream",
     "text": [
      " name is =  ahmad\n",
      "5\n"
     ]
    }
   ],
   "source": [
    "# lenth of string \n",
    "\n",
    "name = input(\" enter name : \")\n",
    "print(\" name is = \",name )\n",
    "print(len(name))\n",
    "\n"
   ]
  },
  {
   "cell_type": "code",
   "execution_count": 23,
   "id": "c0f360d7-38e8-4f5e-92fb-295d7deea2af",
   "metadata": {},
   "outputs": [
    {
     "name": "stdout",
     "output_type": "stream",
     "text": [
      " enter age :  3\n"
     ]
    },
    {
     "name": "stdout",
     "output_type": "stream",
     "text": [
      "weekend\n"
     ]
    }
   ],
   "source": [
    "# Break Statement:\n",
    "num = int(input(\" enter age : \"))\n",
    "if num == 1:\n",
    "    print(\"monday \")\n",
    "\n",
    "elif num == 2:\n",
    "    \n",
    "    print(\" tuesday\")\n",
    "   \n",
    "\n",
    "else:\n",
    "    print(\"weekend\")\n",
    "    break:\n",
    "    \n",
    " \n",
    "    "
   ]
  },
  {
   "cell_type": "code",
   "execution_count": 4,
   "id": "f0cb56b1-b5c0-43a7-bd5f-85d7b82f4f23",
   "metadata": {},
   "outputs": [
    {
     "name": "stdout",
     "output_type": "stream",
     "text": [
      "current letter is :  m\n"
     ]
    }
   ],
   "source": [
    "#Continue Statement\n",
    "list_name = \"Ahmad imam\"\n",
    "for listLetter in list_name:\n",
    "  if listLetter=='i' or listLetter=='a':\n",
    "    continue\n",
    "\n",
    "print('current letter is : ',listLetter)"
   ]
  },
  {
   "cell_type": "code",
   "execution_count": 6,
   "id": "e3a340eb-4d76-4882-b116-3692a5d71933",
   "metadata": {},
   "outputs": [
    {
     "name": "stdout",
     "output_type": "stream",
     "text": [
      "1.0\n",
      "<class 'float'>\n"
     ]
    }
   ],
   "source": [
    "# python function \n",
    "# creat a function \n",
    "\n",
    "def my_function(a):\n",
    "  print(a)\n",
    "  print(type(a))\n",
    "\n",
    "my_function(1.000)\n"
   ]
  },
  {
   "cell_type": "code",
   "execution_count": 8,
   "id": "a4bda277-af09-405d-9f76-8d5340924dc4",
   "metadata": {},
   "outputs": [],
   "source": [
    "#Passing  list as parameter\n",
    "def my_function(country):\n",
    "  for i in country:\n",
    "    print(i)\n",
    "      "
   ]
  },
  {
   "cell_type": "code",
   "execution_count": 10,
   "id": "717524ee-fd40-4ab8-a5ac-e6765be9c5d9",
   "metadata": {},
   "outputs": [
    {
     "name": "stdout",
     "output_type": "stream",
     "text": [
      "Pakistan\n",
      "India\n",
      "Afghanistan\n",
      "UAE\n",
      "USA\n"
     ]
    }
   ],
   "source": [
    "country = [\"Pakistan\",\"India\",\"Afghanistan\",\"UAE\",\"USA\"]\n",
    "my_function(country)"
   ]
  },
  {
   "cell_type": "code",
   "execution_count": 12,
   "id": "cd309c7a-490c-46a2-92e3-684034ba3486",
   "metadata": {},
   "outputs": [],
   "source": [
    "#function use return value\n",
    "def my_function(number):\n",
    " return 5*number"
   ]
  },
  {
   "cell_type": "code",
   "execution_count": 14,
   "id": "32727c63-d5f0-46ad-bf28-0009c3255e53",
   "metadata": {},
   "outputs": [
    {
     "name": "stdout",
     "output_type": "stream",
     "text": [
      "30\n"
     ]
    },
    {
     "data": {
      "text/plain": [
       "35"
      ]
     },
     "execution_count": 14,
     "metadata": {},
     "output_type": "execute_result"
    }
   ],
   "source": [
    "print(my_function(6))\n",
    "my_function(7)"
   ]
  },
  {
   "cell_type": "code",
   "execution_count": 16,
   "id": "a5c611db-ea63-4e73-8c9b-ec57bc28b91a",
   "metadata": {},
   "outputs": [],
   "source": [
    "#Keyword arguments\n",
    "def my_function(child3,child2,child1):\n",
    "  print(\"the youngest brother is  :\"+ child3)\n"
   ]
  },
  {
   "cell_type": "code",
   "execution_count": 18,
   "id": "c11fac2c-de7d-4bf9-b752-b32672645e4f",
   "metadata": {},
   "outputs": [
    {
     "name": "stdout",
     "output_type": "stream",
     "text": [
      "the youngest brother is  :rehan\n"
     ]
    }
   ],
   "source": [
    "my_function(child1='zain', child2='zeyam', child3='rehan')"
   ]
  },
  {
   "cell_type": "code",
   "execution_count": 20,
   "id": "a9b99f62-0362-4628-911a-ed3047d829f1",
   "metadata": {},
   "outputs": [
    {
     "name": "stdout",
     "output_type": "stream",
     "text": [
      "my name is zeyam \n"
     ]
    }
   ],
   "source": [
    "class Person:\n",
    "  def _init_(self, name, age):\n",
    "    self.name=name\n",
    "    self.age=age\n",
    "  def myFunction(self):\n",
    "    print(\"my name is \"+ self.name)\n",
    "\n",
    "\n",
    "\n",
    "p1 = Person()\n",
    "p1.name = \"zeyam \"\n",
    "p1.age = 23\n",
    "p1.myFunction()"
   ]
  },
  {
   "cell_type": "code",
   "execution_count": 22,
   "id": "8e120a53-ced0-4cc3-9f8d-deb06c7c26cd",
   "metadata": {},
   "outputs": [],
   "source": [
    "class Pharmacist:\n",
    "  def _init_(self,age,name,degree,passing_year):\n",
    "    self.name=\"zeyam\"\n",
    "    self.age=23\n",
    "    self.degree = \"None\"\n",
    "    self.passing_year = 0\n",
    "\n",
    "  def degree_type(self,degree):\n",
    "    self.degree=degree\n",
    "    print(\"degree type is \"+ self.degree)\n",
    "\n",
    "\n",
    "  def passing_year(self, year):\n",
    "    self.passing_year = year"
   ]
  },
  {
   "cell_type": "code",
   "execution_count": 24,
   "id": "e7e9a302-183c-4775-8d2d-c8d29c6cfa9d",
   "metadata": {},
   "outputs": [
    {
     "name": "stdout",
     "output_type": "stream",
     "text": [
      "Aubaker\n",
      "23\n",
      "degree type is c_category\n"
     ]
    }
   ],
   "source": [
    "pharmacist = Pharmacist()\n",
    "pharmacist.name = \"Aubaker\"\n",
    "pharmacist.degree = \"B_category\"\n",
    "pharmacist.passing_year = 2024\n",
    "pharmacist.age = 23\n",
    "print(pharmacist.name)\n",
    "print(pharmacist.age)\n",
    "pharmacist.degree_type(\"c_category\")\n"
   ]
  },
  {
   "cell_type": "code",
   "execution_count": null,
   "id": "0acf7347-c226-4dec-a04d-a3ea44b118e2",
   "metadata": {},
   "outputs": [],
   "source": []
  }
 ],
 "metadata": {
  "kernelspec": {
   "display_name": "Python 3 (ipykernel)",
   "language": "python",
   "name": "python3"
  },
  "language_info": {
   "codemirror_mode": {
    "name": "ipython",
    "version": 3
   },
   "file_extension": ".py",
   "mimetype": "text/x-python",
   "name": "python",
   "nbconvert_exporter": "python",
   "pygments_lexer": "ipython3",
   "version": "3.11.7"
  }
 },
 "nbformat": 4,
 "nbformat_minor": 5
}
