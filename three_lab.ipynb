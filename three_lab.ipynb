{
 "cells": [
  {
   "cell_type": "code",
   "execution_count": 2,
   "id": "e61285ef-f49c-4111-ab61-60ee15285fda",
   "metadata": {},
   "outputs": [
    {
     "name": "stdout",
     "output_type": "stream",
     "text": [
      "Numbers divisible by 7 and multiple of 5 between 1500 and 2700:\n",
      "1505\n",
      "1512\n",
      "1519\n",
      "1526\n",
      "1533\n",
      "1540\n",
      "1547\n",
      "1554\n",
      "1561\n",
      "1568\n",
      "1575\n",
      "1582\n",
      "1589\n",
      "1596\n",
      "1603\n",
      "1610\n",
      "1617\n",
      "1624\n",
      "1631\n",
      "1638\n",
      "1645\n",
      "1652\n",
      "1659\n",
      "1666\n",
      "1673\n",
      "1680\n",
      "1687\n",
      "1694\n",
      "1701\n",
      "1708\n",
      "1715\n",
      "1722\n",
      "1729\n",
      "1736\n",
      "1743\n",
      "1750\n",
      "1757\n",
      "1764\n",
      "1771\n",
      "1778\n",
      "1785\n",
      "1792\n",
      "1799\n",
      "1806\n",
      "1813\n",
      "1820\n",
      "1827\n",
      "1834\n",
      "1841\n",
      "1848\n",
      "1855\n",
      "1862\n",
      "1869\n",
      "1876\n",
      "1883\n",
      "1890\n",
      "1897\n",
      "1904\n",
      "1911\n",
      "1918\n",
      "1925\n",
      "1932\n",
      "1939\n",
      "1946\n",
      "1953\n",
      "1960\n",
      "1967\n",
      "1974\n",
      "1981\n",
      "1988\n",
      "1995\n",
      "2002\n",
      "2009\n",
      "2016\n",
      "2023\n",
      "2030\n",
      "2037\n",
      "2044\n",
      "2051\n",
      "2058\n",
      "2065\n",
      "2072\n",
      "2079\n",
      "2086\n",
      "2093\n",
      "2100\n",
      "2107\n",
      "2114\n",
      "2121\n",
      "2128\n",
      "2135\n",
      "2142\n",
      "2149\n",
      "2156\n",
      "2163\n",
      "2170\n",
      "2177\n",
      "2184\n",
      "2191\n",
      "2198\n",
      "2205\n",
      "2212\n",
      "2219\n",
      "2226\n",
      "2233\n",
      "2240\n",
      "2247\n",
      "2254\n",
      "2261\n",
      "2268\n",
      "2275\n",
      "2282\n",
      "2289\n",
      "2296\n",
      "2303\n",
      "2310\n",
      "2317\n",
      "2324\n",
      "2331\n",
      "2338\n",
      "2345\n",
      "2352\n",
      "2359\n",
      "2366\n",
      "2373\n",
      "2380\n",
      "2387\n",
      "2394\n",
      "2401\n",
      "2408\n",
      "2415\n",
      "2422\n",
      "2429\n",
      "2436\n",
      "2443\n",
      "2450\n",
      "2457\n",
      "2464\n",
      "2471\n",
      "2478\n",
      "2485\n",
      "2492\n",
      "2499\n",
      "2506\n",
      "2513\n",
      "2520\n",
      "2527\n",
      "2534\n",
      "2541\n",
      "2548\n",
      "2555\n",
      "2562\n",
      "2569\n",
      "2576\n",
      "2583\n",
      "2590\n",
      "2597\n",
      "2604\n",
      "2611\n",
      "2618\n",
      "2625\n",
      "2632\n",
      "2639\n",
      "2646\n",
      "2653\n",
      "2660\n",
      "2667\n",
      "2674\n",
      "2681\n",
      "2688\n",
      "2695\n"
     ]
    }
   ],
   "source": [
    "# ( 1 )write a python program to find those number which are divisible by 7 and multiple of 5 between \n",
    "#1500 and 2700 in simple code\n",
    "\n",
    "print(\"Numbers divisible by 7 and multiple of 5 between 1500 and 2700:\")\n",
    "for num in range(1500,2700):\n",
    "    if num % 7 == 0 & num % 5 == 0:\n",
    "        print(num)"
   ]
  },
  {
   "cell_type": "code",
   "execution_count": 2,
   "id": "7ae6e67b-f6ee-449c-b922-c4a0f3534879",
   "metadata": {},
   "outputs": [
    {
     "name": "stdin",
     "output_type": "stream",
     "text": [
      "enter tenperature to celcius :  23\n"
     ]
    },
    {
     "name": "stdout",
     "output_type": "stream",
     "text": [
      " tenperature to celcius =  23\n"
     ]
    },
    {
     "name": "stdin",
     "output_type": "stream",
     "text": [
      "enter tenperature to forenhite : 34\n"
     ]
    },
    {
     "name": "stdout",
     "output_type": "stream",
     "text": [
      " tenperature to fahrenhite =  34\n",
      "celcius =  1.1111111111111112\n",
      "fahrenheit =  73.4\n"
     ]
    }
   ],
   "source": [
    "# ( 2 ) write a python program to convert temperatures to and from celcius , fahrhite \n",
    "tem_cel = int (input(\"enter tenperature to celcius : \"))\n",
    "print(\" tenperature to celcius = \",tem_cel)\n",
    "\n",
    "tem_for = int (input(\"enter tenperature to forenhite :\"))\n",
    "print (\" tenperature to fahrenhite = \",tem_for)\n",
    "print(\"celcius = \",(tem_for - 32) * 5 / 9)\n",
    "print(\"fahrenheit = \",(tem_cel * 9 / 5 ) + 32 )"
   ]
  },
  {
   "cell_type": "code",
   "execution_count": 14,
   "id": "5c1d6b9d-50ab-4a02-bfea-4f7d669d3180",
   "metadata": {},
   "outputs": [
    {
     "name": "stdin",
     "output_type": "stream",
     "text": [
      "plz enter a number between 1 to 9:   5\n"
     ]
    },
    {
     "name": "stdout",
     "output_type": "stream",
     "text": [
      "congratulations ! you are successful\n"
     ]
    },
    {
     "data": {
      "text/plain": [
       "'\\n\\n# ( 3 ) write a pythone program to gess a nuumber between 1 to 9\\n\\nimport random\\n\\n r_number = random.randint(1,9)\\n\\n print(\\'enter number between 1 to 9 . can you guess it is ? \\')\\n\\n while True:\\n\\n\\n  n = int(input( \" enter number : \"))\\n\\n  if n < r_number:\\n      print(\\' number is less then limit your condition\\')\\n\\n  elif n > r_number:\\n      print(\\' number is greater then from the fix your limit \\')\\n\\n  else:\\n      print(\" Congratulation\\'s you are sucess full \")\\n      break\\n'"
      ]
     },
     "execution_count": 14,
     "metadata": {},
     "output_type": "execute_result"
    }
   ],
   "source": [
    "# ( 3 ) write a pythone program to gess a nuumber between 1 to 9 \n",
    "x = 5\n",
    "user_input = int(input(\"plz enter a number between 1 to 9:  \"))\n",
    "while True:\n",
    "    if(x == user_input):\n",
    "        print(\"congratulations ! you are successful\")\n",
    "        break\n",
    "\n",
    "    else:\n",
    "        print(\"Try again ! you guesed wrong number\")\n",
    "        user_input = int(input(\"plz enter a number between 1 to 9:  \"))\n",
    "\n",
    "'''\n",
    "\n",
    "# ( 3 ) write a pythone program to gess a nuumber between 1 to 9\n",
    "\n",
    "import random\n",
    "\n",
    " r_number = random.randint(1,9)\n",
    "\n",
    " print('enter number between 1 to 9 . can you guess it is ? ')\n",
    "\n",
    " while True:\n",
    "\n",
    "\n",
    "  n = int(input( \" enter number : \"))\n",
    "\n",
    "  if n < r_number:\n",
    "      print(' number is less then limit your condition')\n",
    "\n",
    "  elif n > r_number:\n",
    "      print(' number is greater then from the fix your limit ')\n",
    "\n",
    "  else:\n",
    "      print(\" Congratulation's you are sucess full \")\n",
    "      break\n",
    "'''\n",
    "\n",
    "    \n",
    "  "
   ]
  },
  {
   "cell_type": "code",
   "execution_count": 16,
   "id": "08cb5742-6ec0-4df7-a980-608333237282",
   "metadata": {},
   "outputs": [
    {
     "name": "stdout",
     "output_type": "stream",
     "text": [
      "*\n",
      "*\n",
      "*\n",
      "*\n"
     ]
    }
   ],
   "source": [
    "\n",
    "#4 write a program to construct to the pattren using nested loop\n",
    "j = 1\n",
    "for i in range(1,5):\n",
    "  for j in range(1,):\n",
    "   print(\"*\")\n",
    "   j = j + 1"
   ]
  },
  {
   "cell_type": "code",
   "execution_count": 20,
   "id": "1b58e811-40de-447a-a529-6450c61207dc",
   "metadata": {},
   "outputs": [
    {
     "name": "stdin",
     "output_type": "stream",
     "text": [
      " enter string :  aswe\n"
     ]
    },
    {
     "name": "stdout",
     "output_type": "stream",
     "text": [
      "the reverse word is :  ewsa\n"
     ]
    },
    {
     "name": "stdin",
     "output_type": "stream",
     "text": [
      " enter string :  sed\n"
     ]
    },
    {
     "name": "stdout",
     "output_type": "stream",
     "text": [
      "the reverse word is :  des\n"
     ]
    }
   ],
   "source": [
    "# 5write a program that accept the word from the user and reverse it\n",
    "'''\n",
    "def reverse_word(word):\n",
    "    \"\"\"\n",
    "    Reverses the given word.\n",
    "\n",
    "    Args:\n",
    "        word (str): The word to be reversed.\n",
    "\n",
    "    Returns:\n",
    "        str: The reversed word.\n",
    "    \"\"\"\n",
    "    return word[::-1]\n",
    "\n",
    "# Get the word from the user\n",
    "user_word = input(\"Enter a word: \")\n",
    "\n",
    "# Reverse the word\n",
    "reversed_word = reverse_word(user_word)\n",
    "\n",
    "# Print the reversed word\n",
    "print(\"The reversed word is:\", reversed_word)\n",
    "'''\n",
    "def reverse_word(word):\n",
    "    return word[::-1]\n",
    "\n",
    "user_string = input(\" enter string : \")\n",
    "reverse_word = reverse_word(user_string)\n",
    "\n",
    "print(\"the reverse word is : \",reverse_word)\n",
    "\n",
    "\n",
    "# 5write a program that accept the word from the user and reverse it\n",
    "def reverse_word(word):\n",
    "    return word[::-1]\n",
    "\n",
    "user_string = input(\" enter string : \")\n",
    "reverse_word = reverse_word(user_string)\n",
    "\n",
    "print(\"the reverse word is : \",reverse_word)"
   ]
  },
  {
   "cell_type": "code",
   "execution_count": 46,
   "id": "b2dcb7b1-ff76-48c9-9255-75c427d918a9",
   "metadata": {},
   "outputs": [
    {
     "name": "stdout",
     "output_type": "stream",
     "text": [
      " Even number is =  4\n",
      " Odd number is =  5\n",
      "----------------------------------------------------\n"
     ]
    },
    {
     "data": {
      "text/plain": [
       "'\\n# take user input and show that the number is even and odd number\\n\\n\\ndef count_even_odd():\\n\\n user_input = int(input(\" enter number : \"))\\n number = []\\n e = 0\\n o = 0\\n\\n for a in number:\\n  if( a % 2 == 0):\\n    print(\" number is even  : \", e)\\n\\n  else:\\n    print(\" number is odd : \" , o)\\n\\n return e,o\\n\\ne,o = count_even_odd()\\nprint(\"number is : \", e )\\nprint(\" num, is : \" , o)\\n'"
      ]
     },
     "execution_count": 46,
     "metadata": {},
     "output_type": "execute_result"
    }
   ],
   "source": [
    "\n",
    "\n",
    "# 6  write a pythone program that count number of even and odd number from a series pf the number\n",
    "\n",
    "def count_even_odd(number):\n",
    "\n",
    "   even = 0\n",
    "   odd = 0\n",
    "\n",
    "   for i in number :\n",
    "       \n",
    "     if i % 2 == 0:\n",
    "     \n",
    "          even += 1\n",
    "          \n",
    "     else:\n",
    "     \n",
    "          odd += 1\n",
    "          \n",
    "   return even,odd\n",
    "   \n",
    "number_list = ( 1,2,3,4,5,6,7,8,9)\n",
    "\n",
    "even,odd = count_even_odd(number_list)\n",
    "\n",
    "print(\" Even number is = \" , even )\n",
    "\n",
    "print(\" Odd number is = \" , odd)\n",
    "\n",
    "\n",
    "\n",
    "print(\"----------------------------------------------------\")\n",
    "\n",
    "\n",
    "\n",
    "'''\n",
    "def count_even_odd(numbers):\n",
    "    even_count = 0\n",
    "    odd_count = 0\n",
    "    for num in numbers:\n",
    "        if num % 2 == 0:\n",
    "            even_count += 1\n",
    "        else:\n",
    "            odd_count += 1\n",
    "    return even_count, odd_count\n",
    "\n",
    "# Example usage:\n",
    "numbers = [1, 2, 3, 4, 5, 6, 7, 8, 9, 10]\n",
    "even_count, odd_count = count_even_odd(numbers)\n",
    "print(f\"Even numbers: {even_count}\")\n",
    "print(f\"Odd numbers: {odd_count}\")\n",
    "\n",
    "'''\n",
    "\n",
    "'''\n",
    "# take user input and show that the number is even and odd number\n",
    "\n",
    "\n",
    "def count_even_odd():\n",
    "\n",
    " user_input = int(input(\" enter number : \"))\n",
    " number = []\n",
    " e = 0\n",
    " o = 0\n",
    "\n",
    " for a in number:\n",
    "  if( a % 2 == 0):\n",
    "    print(\" number is even  : \", e)\n",
    "\n",
    "  else:\n",
    "    print(\" number is odd : \" , o)\n",
    "\n",
    " return e,o\n",
    "\n",
    "e,o = count_even_odd()\n",
    "print(\"number is : \", e )\n",
    "print(\" num, is : \" , o)\n",
    "'''\n",
    "\n",
    "\n",
    "\n",
    "\n",
    "\n",
    "\n",
    "\n"
   ]
  },
  {
   "cell_type": "code",
   "execution_count": 48,
   "id": "8b913d00-da3d-4d2b-a0d5-f17b99715477",
   "metadata": {},
   "outputs": [
    {
     "name": "stdout",
     "output_type": "stream",
     "text": [
      "[1452, 11.23, (1+2j), True, 'w3resources', (0, -1), [5, 12], {'class': 'V', 'section': 'A'}]\n",
      "<class 'list'>\n",
      "<class 'bool'>\n",
      "<class 'dict'>\n"
     ]
    }
   ],
   "source": [
    "# 7 write a program that print each items and coresponding type from the following\n",
    "list_detail = [1452,11.23,1+2j,True,'w3resources',(0,-1),[5,12],{\"class\":'V',\"section\":'A'}]\n",
    "print(list_detail)\n",
    "print(type(list_detail))\n",
    "print(type(list_detail[3]))\n",
    "print(type(list_detail[7]))"
   ]
  },
  {
   "cell_type": "code",
   "execution_count": 50,
   "id": "07537129-b0ac-45bf-bd3b-9143ff27981c",
   "metadata": {},
   "outputs": [
    {
     "name": "stdout",
     "output_type": "stream",
     "text": [
      "0\n",
      "1\n",
      "2\n",
      "4\n",
      "5\n"
     ]
    }
   ],
   "source": [
    "# 8  write a program that print all the nmmber from 0 to 6 axcept 3 and 6\n",
    "for num in range(7):\n",
    "  if num != 3 and num != 6:\n",
    "    print(num)\n"
   ]
  },
  {
   "cell_type": "code",
   "execution_count": 52,
   "id": "adddc922-80f6-443f-b4a4-9490df4d80c3",
   "metadata": {},
   "outputs": [
    {
     "name": "stdout",
     "output_type": "stream",
     "text": [
      "[0, 1, 1, 2, 3, 5, 8, 13, 21, 34, 55]\n"
     ]
    }
   ],
   "source": [
    "\n",
    "# 9 write a python program to get the fibonacci srires between 0 to 50 -------------\n",
    "def fibonacci(n):\n",
    "    fib_sequence = [0, 1]\n",
    "    while fib_sequence[-1] < n:\n",
    "        fib_sequence.append(fib_sequence[-1] + fib_sequence[-2])\n",
    "    return fib_sequence\n",
    "\n",
    "fib_sequence = fibonacci(50)\n",
    "print(fib_sequence)\n"
   ]
  },
  {
   "cell_type": "code",
   "execution_count": 54,
   "id": "c9716b14-dc13-41d6-8c5f-f8f6af2db273",
   "metadata": {},
   "outputs": [
    {
     "ename": "IndentationError",
     "evalue": "unexpected indent (2385374887.py, line 37)",
     "output_type": "error",
     "traceback": [
      "\u001b[0;36m  Cell \u001b[0;32mIn[54], line 37\u001b[0;36m\u001b[0m\n\u001b[0;31m    if user_input >= 6 or user_input <= 16 :\u001b[0m\n\u001b[0m    ^\u001b[0m\n\u001b[0;31mIndentationError\u001b[0m\u001b[0;31m:\u001b[0m unexpected indent\n"
     ]
    }
   ],
   "source": [
    "# 14 write a python program to check the validity of password input by user\n",
    "\n",
    "def check_password_validity(password):\n",
    "    # Password must be at least 8 characters long\n",
    "   ''' if len(password) < 8:\n",
    "        return False, \"Password must be at least 8 characters long.\"\n",
    "\n",
    "    # Password must contain at least one uppercase letter\n",
    "    if not any(char.isupper() for char in password):\n",
    "        return False, \"Password must contain at least one uppercase letter.\"\n",
    "\n",
    "    # Password must contain at least one lowercase letter\n",
    "    if not any(char.islower() for char in password):\n",
    "        return False, \"Password must contain at least one lowercase letter.\"\n",
    "\n",
    "    # Password must contain at least one digit\n",
    "    if not any(char.isdigit() for char in password):\n",
    "        return False, \"Password must contain at least one digit.\"\n",
    "\n",
    "    # Password must contain at least one special character\n",
    "    special_chars = r'[!@#$%^&*(),.?\":{}|<>]'\n",
    "    if not re.search(special_chars, password):\n",
    "        return False, \"Password must contain at least one special character.\"\n",
    "\n",
    "    return True, \"Password is valid.\"\n",
    "\n",
    "# Example usage\n",
    "while True:\n",
    "    password = input(\"Enter a password: \")\n",
    "    is_valid, message = check_password_validity(password)\n",
    "    if is_valid:\n",
    "        print(message)\n",
    "        break\n",
    "    else:\n",
    "        print(message) '''\n",
    "\n",
    "    if user_input >= 6 or user_input <= 16 :\n",
    "      if not any ( char.isupper() for char in password):\n",
    "        return False , \"Password must contain at least one uppercase letter.\"\n",
    "\n",
    "      if not any (char.islower() for char in password):\n",
    "        return False , \"Password must contain at least one lowercase letter.\"\n",
    "\n",
    "      if not any (char.indigit() for char in password):\n",
    "        return False , \"Password must contain at least one digit letter.\"\n",
    "\n",
    "      if not re.search(speciañ_chars,password):\n",
    "        return False ,\" Password must contain at least one special letter.\"\n",
    "\n",
    "      return True , \"password is valid \"\n",
    "\n",
    "while True:\n",
    "  user_input = input(\"enter password : \")\n",
    "  is_valid , message = check_password_validity(password)\n",
    "\n",
    "  if is_valid:\n",
    "    print(message)\n",
    "    break\n",
    "\n",
    "  else:\n",
    "    print(message)"
   ]
  },
  {
   "cell_type": "code",
   "execution_count": null,
   "id": "c83e8f2e-fd7d-4e33-a1b8-b47ccd663bf8",
   "metadata": {},
   "outputs": [],
   "source": []
  }
 ],
 "metadata": {
  "kernelspec": {
   "display_name": "Python 3 (ipykernel)",
   "language": "python",
   "name": "python3"
  },
  "language_info": {
   "codemirror_mode": {
    "name": "ipython",
    "version": 3
   },
   "file_extension": ".py",
   "mimetype": "text/x-python",
   "name": "python",
   "nbconvert_exporter": "python",
   "pygments_lexer": "ipython3",
   "version": "3.11.7"
  }
 },
 "nbformat": 4,
 "nbformat_minor": 5
}
